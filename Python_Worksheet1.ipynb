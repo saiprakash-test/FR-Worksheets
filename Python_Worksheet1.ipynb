{
 "cells": [
  {
   "cell_type": "markdown",
   "metadata": {},
   "source": [
    "# 11. Write a python program to find the factorial of a number."
   ]
  },
  {
   "cell_type": "code",
   "execution_count": 32,
   "metadata": {},
   "outputs": [
    {
     "name": "stdout",
     "output_type": "stream",
     "text": [
      "Enter a number: 5\n",
      "The factorial of 5 is 120\n"
     ]
    }
   ],
   "source": [
    "num = int(input(\"Enter a number: \"))\n",
    "factorial = 1\n",
    "# check if the number is negative, positive or zero\n",
    "if num< 0:\n",
    "    print(\"factorial does not exist for negative numbers\")\n",
    "elif num == 0:\n",
    "    print(\"The factorial of 0 is 1\")\n",
    "else:\n",
    "    for i in range(1,num + 1):\n",
    "        factorial = factorial*i\n",
    "print(\"The factorial of\",num,\"is\",factorial)"
   ]
  },
  {
   "cell_type": "markdown",
   "metadata": {},
   "source": [
    "# 12. Write a python program to find whether a number is prime or composite."
   ]
  },
  {
   "cell_type": "code",
   "execution_count": 6,
   "metadata": {},
   "outputs": [
    {
     "name": "stdout",
     "output_type": "stream",
     "text": [
      "Enter a number: 5\n",
      "5 is a prime number\n",
      "5 is a prime number\n",
      "5 is a prime number\n"
     ]
    }
   ],
   "source": [
    "num = int(input(\"Enter a number: \"))  \n",
    "  \n",
    "if num > 1:  \n",
    "    for i in range(2,num):  \n",
    "        if (num % i) == 0:\n",
    "            print(num,\"is not a prime number\")  \n",
    "            print(i,\"times\",num//i,\"is\",num)  \n",
    "            break  \n",
    "        else:  \n",
    "            print(num,\"is a prime number\")  \n",
    "else:  \n",
    "    print(num,\"is not a prime number\")  "
   ]
  },
  {
   "cell_type": "markdown",
   "metadata": {},
   "source": [
    "# 13. Write a python program to check whether a given string is palindrome or not."
   ]
  },
  {
   "cell_type": "code",
   "execution_count": 84,
   "metadata": {},
   "outputs": [
    {
     "name": "stdout",
     "output_type": "stream",
     "text": [
      "Yes malayalam is a Palindrome\n"
     ]
    }
   ],
   "source": [
    "# Checking for Palindrome\n",
    "x = \"malayalam\"\n",
    "\n",
    "Palindrome = \"\"\n",
    "for i in x:\n",
    "    Palindrome= i + Palindrome\n",
    "\n",
    "if (x == Palindrome):\n",
    "    print('Yes',x,'is a Palindrome')\n",
    "else:\n",
    "    print('No',x,'is not a Palindrome')"
   ]
  },
  {
   "cell_type": "code",
   "execution_count": 85,
   "metadata": {},
   "outputs": [
    {
     "name": "stdout",
     "output_type": "stream",
     "text": [
      "No English is not a Palindrome\n"
     ]
    }
   ],
   "source": [
    "# Checking for not a Palindrome\n",
    "x = \"English\"\n",
    "\n",
    "Palindrome = \"\"\n",
    "for i in x:\n",
    "    Palindrome = i + Palindrome\n",
    "\n",
    "if (x == Palindrome):\n",
    "    print('Yes',x,'is a Palindrome')\n",
    "else:\n",
    "    print('No',x,'is not a Palindrome')"
   ]
  },
  {
   "cell_type": "markdown",
   "metadata": {},
   "source": [
    "# 14. Write a Python program to get the third side of right-angled triangle from two given sides."
   ]
  },
  {
   "cell_type": "code",
   "execution_count": 58,
   "metadata": {},
   "outputs": [
    {
     "name": "stdout",
     "output_type": "stream",
     "text": [
      "side (a, b, c) to calculate? side: c\n",
      "Input the length of side a: 5\n",
      "Input the length of side b: 6\n",
      "The length of side c is 7.81025: \n"
     ]
    }
   ],
   "source": [
    "from math import sqrt\n",
    "\n",
    "choice = input('side (a, b, c) to calculate? side: ')\n",
    "\n",
    "if choice == 'c':\n",
    "    a = float(input('Input the length of side a: '))\n",
    "    b = float(input('Input the length of side b: '))\n",
    "    c = sqrt(a * a + b * b)\n",
    "    print('The length of side c is %g: ' %(c))\n",
    "elif choice == 'b':\n",
    "    a = float(input('Input the length of side a: '))\n",
    "    c = float(input('Input the length of side c: '))\n",
    "    b = sqrt(c * c - a * a)\n",
    "    print('The length of side b is %g: ' %(b))\n",
    "    \n",
    "elif choice == 'a':\n",
    "    b = float(input('Input the length of side b: '))\n",
    "    c = float(input('Input the length of side c: '))\n",
    "    \n",
    "    a = sqrt((c * c) - (b * b))\n",
    "    print('The length of side a is %g: ' %(a))   \n",
    "    \n",
    "else:\n",
    "    print('Invalid Input!')    "
   ]
  },
  {
   "cell_type": "markdown",
   "metadata": {},
   "source": [
    "# 15. Write a python program to print the frequency of each of the characters present in a given string."
   ]
  },
  {
   "cell_type": "code",
   "execution_count": 5,
   "metadata": {},
   "outputs": [
    {
     "name": "stdout",
     "output_type": "stream",
     "text": [
      "Frequency of each character in Datascience is   {'D': 1, 'a': 2, 't': 1, 's': 1, 'c': 2, 'i': 1, 'e': 2, 'n': 1}\n"
     ]
    }
   ],
   "source": [
    "string = \"Datascience\"\n",
    "frequency = {}\n",
    "\n",
    "for i in string:\n",
    "    if i in frequency:\n",
    "        frequency[i] += 1\n",
    "    else:\n",
    "        frequency[i] = 1\n",
    "\n",
    "print (\"Frequency of each character in Datascience is  \", frequency)"
   ]
  }
 ],
 "metadata": {
  "kernelspec": {
   "display_name": "Python 3",
   "language": "python",
   "name": "python3"
  },
  "language_info": {
   "codemirror_mode": {
    "name": "ipython",
    "version": 3
   },
   "file_extension": ".py",
   "mimetype": "text/x-python",
   "name": "python",
   "nbconvert_exporter": "python",
   "pygments_lexer": "ipython3",
   "version": "3.8.5"
  }
 },
 "nbformat": 4,
 "nbformat_minor": 4
}
